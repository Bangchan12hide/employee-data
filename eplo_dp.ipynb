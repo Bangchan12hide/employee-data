{
 "cells": [
  {
   "cell_type": "code",
   "execution_count": 12,
   "metadata": {},
   "outputs": [
    {
     "name": "stdout",
     "output_type": "stream",
     "text": [
      "running\n"
     ]
    }
   ],
   "source": [
    "print('running')"
   ]
  },
  {
   "cell_type": "markdown",
   "metadata": {},
   "source": [
    "## data load"
   ]
  },
  {
   "cell_type": "code",
   "execution_count": 4,
   "metadata": {},
   "outputs": [],
   "source": [
    "import pandas as pd"
   ]
  },
  {
   "cell_type": "code",
   "execution_count": 5,
   "metadata": {},
   "outputs": [],
   "source": [
    "df=pd.read_csv('employee.dataset.csv')"
   ]
  },
  {
   "cell_type": "code",
   "execution_count": 6,
   "metadata": {},
   "outputs": [
    {
     "data": {
      "text/plain": [
       "(1000, 26)"
      ]
     },
     "execution_count": 6,
     "metadata": {},
     "output_type": "execute_result"
    }
   ],
   "source": [
    "df.shape"
   ]
  },
  {
   "cell_type": "code",
   "execution_count": 7,
   "metadata": {},
   "outputs": [
    {
     "data": {
      "text/html": [
       "<div>\n",
       "<style scoped>\n",
       "    .dataframe tbody tr th:only-of-type {\n",
       "        vertical-align: middle;\n",
       "    }\n",
       "\n",
       "    .dataframe tbody tr th {\n",
       "        vertical-align: top;\n",
       "    }\n",
       "\n",
       "    .dataframe thead th {\n",
       "        text-align: right;\n",
       "    }\n",
       "</style>\n",
       "<table border=\"1\" class=\"dataframe\">\n",
       "  <thead>\n",
       "    <tr style=\"text-align: right;\">\n",
       "      <th></th>\n",
       "      <th>Employee_ID</th>\n",
       "      <th>Age</th>\n",
       "      <th>Gender</th>\n",
       "      <th>Marital_Status</th>\n",
       "      <th>Department</th>\n",
       "      <th>Job_Role</th>\n",
       "      <th>Job_Level</th>\n",
       "      <th>Monthly_Income</th>\n",
       "      <th>Hourly_Rate</th>\n",
       "      <th>Years_at_Company</th>\n",
       "      <th>...</th>\n",
       "      <th>Overtime</th>\n",
       "      <th>Project_Count</th>\n",
       "      <th>Average_Hours_Worked_Per_Week</th>\n",
       "      <th>Absenteeism</th>\n",
       "      <th>Work_Environment_Satisfaction</th>\n",
       "      <th>Relationship_with_Manager</th>\n",
       "      <th>Job_Involvement</th>\n",
       "      <th>Distance_From_Home</th>\n",
       "      <th>Number_of_Companies_Worked</th>\n",
       "      <th>Attrition</th>\n",
       "    </tr>\n",
       "  </thead>\n",
       "  <tbody>\n",
       "    <tr>\n",
       "      <th>891</th>\n",
       "      <td>892</td>\n",
       "      <td>41</td>\n",
       "      <td>Male</td>\n",
       "      <td>Married</td>\n",
       "      <td>HR</td>\n",
       "      <td>Assistant</td>\n",
       "      <td>4</td>\n",
       "      <td>10162</td>\n",
       "      <td>93</td>\n",
       "      <td>18</td>\n",
       "      <td>...</td>\n",
       "      <td>Yes</td>\n",
       "      <td>8</td>\n",
       "      <td>40</td>\n",
       "      <td>4</td>\n",
       "      <td>1</td>\n",
       "      <td>1</td>\n",
       "      <td>2</td>\n",
       "      <td>37</td>\n",
       "      <td>2</td>\n",
       "      <td>No</td>\n",
       "    </tr>\n",
       "    <tr>\n",
       "      <th>230</th>\n",
       "      <td>231</td>\n",
       "      <td>20</td>\n",
       "      <td>Female</td>\n",
       "      <td>Single</td>\n",
       "      <td>Sales</td>\n",
       "      <td>Executive</td>\n",
       "      <td>2</td>\n",
       "      <td>3692</td>\n",
       "      <td>97</td>\n",
       "      <td>14</td>\n",
       "      <td>...</td>\n",
       "      <td>Yes</td>\n",
       "      <td>2</td>\n",
       "      <td>56</td>\n",
       "      <td>0</td>\n",
       "      <td>4</td>\n",
       "      <td>3</td>\n",
       "      <td>4</td>\n",
       "      <td>7</td>\n",
       "      <td>1</td>\n",
       "      <td>Yes</td>\n",
       "    </tr>\n",
       "    <tr>\n",
       "      <th>354</th>\n",
       "      <td>355</td>\n",
       "      <td>52</td>\n",
       "      <td>Male</td>\n",
       "      <td>Single</td>\n",
       "      <td>IT</td>\n",
       "      <td>Executive</td>\n",
       "      <td>5</td>\n",
       "      <td>5038</td>\n",
       "      <td>63</td>\n",
       "      <td>3</td>\n",
       "      <td>...</td>\n",
       "      <td>No</td>\n",
       "      <td>2</td>\n",
       "      <td>49</td>\n",
       "      <td>4</td>\n",
       "      <td>4</td>\n",
       "      <td>4</td>\n",
       "      <td>1</td>\n",
       "      <td>33</td>\n",
       "      <td>2</td>\n",
       "      <td>No</td>\n",
       "    </tr>\n",
       "  </tbody>\n",
       "</table>\n",
       "<p>3 rows × 26 columns</p>\n",
       "</div>"
      ],
      "text/plain": [
       "      Employee_ID  Age  Gender Marital_Status Department   Job_Role  \\\n",
       "891           892   41    Male        Married         HR  Assistant   \n",
       "230           231   20  Female         Single      Sales  Executive   \n",
       "354           355   52    Male         Single         IT  Executive   \n",
       "\n",
       "     Job_Level  Monthly_Income  Hourly_Rate  Years_at_Company  ...  Overtime  \\\n",
       "891          4           10162           93                18  ...       Yes   \n",
       "230          2            3692           97                14  ...       Yes   \n",
       "354          5            5038           63                 3  ...        No   \n",
       "\n",
       "     Project_Count  Average_Hours_Worked_Per_Week  Absenteeism  \\\n",
       "891              8                             40            4   \n",
       "230              2                             56            0   \n",
       "354              2                             49            4   \n",
       "\n",
       "     Work_Environment_Satisfaction  Relationship_with_Manager Job_Involvement  \\\n",
       "891                              1                          1               2   \n",
       "230                              4                          3               4   \n",
       "354                              4                          4               1   \n",
       "\n",
       "     Distance_From_Home  Number_of_Companies_Worked  Attrition  \n",
       "891                  37                           2         No  \n",
       "230                   7                           1        Yes  \n",
       "354                  33                           2         No  \n",
       "\n",
       "[3 rows x 26 columns]"
      ]
     },
     "execution_count": 7,
     "metadata": {},
     "output_type": "execute_result"
    }
   ],
   "source": [
    "df.sample(3)"
   ]
  },
  {
   "cell_type": "code",
   "execution_count": 9,
   "metadata": {},
   "outputs": [
    {
     "data": {
      "text/plain": [
       "(1000, 26)"
      ]
     },
     "execution_count": 9,
     "metadata": {},
     "output_type": "execute_result"
    }
   ],
   "source": [
    "df.shape"
   ]
  },
  {
   "cell_type": "code",
   "execution_count": 10,
   "metadata": {},
   "outputs": [
    {
     "data": {
      "text/plain": [
       "<bound method NDFrame.head of       Employee_ID  Age  Gender Marital_Status Department   Job_Role  \\\n",
       "0               1   58  Female        Married         IT    Manager   \n",
       "1               2   48  Female        Married      Sales  Assistant   \n",
       "2               3   34    Male        Married  Marketing  Assistant   \n",
       "3               4   27  Female       Divorced  Marketing    Manager   \n",
       "4               5   40    Male       Divorced  Marketing  Executive   \n",
       "..            ...  ...     ...            ...        ...        ...   \n",
       "995           996   27  Female       Divorced         HR    Analyst   \n",
       "996           997   47    Male         Single         IT    Manager   \n",
       "997           998   50  Female       Divorced         IT  Executive   \n",
       "998           999   28  Female        Married         HR  Executive   \n",
       "999          1000   48  Female       Divorced         IT    Analyst   \n",
       "\n",
       "     Job_Level  Monthly_Income  Hourly_Rate  Years_at_Company  ...  Overtime  \\\n",
       "0            1           15488           28                15  ...        No   \n",
       "1            5           13079           28                 6  ...       Yes   \n",
       "2            1           13744           24                24  ...       Yes   \n",
       "3            1            6809           26                10  ...        No   \n",
       "4            1           10206           52                29  ...        No   \n",
       "..         ...             ...          ...               ...  ...       ...   \n",
       "995          2            4172           76                24  ...        No   \n",
       "996          4           11007           71                19  ...       Yes   \n",
       "997          1            4641           43                25  ...       Yes   \n",
       "998          4           19855           92                13  ...        No   \n",
       "999          2           11738           39                 1  ...       Yes   \n",
       "\n",
       "     Project_Count  Average_Hours_Worked_Per_Week  Absenteeism  \\\n",
       "0                6                             54           17   \n",
       "1                2                             45            1   \n",
       "2                6                             34            2   \n",
       "3                9                             48           18   \n",
       "4                3                             33            0   \n",
       "..             ...                            ...          ...   \n",
       "995              4                             46           10   \n",
       "996              7                             36           16   \n",
       "997              1                             46            9   \n",
       "998              4                             52           17   \n",
       "999              2                             59            5   \n",
       "\n",
       "     Work_Environment_Satisfaction  Relationship_with_Manager Job_Involvement  \\\n",
       "0                                4                          4               4   \n",
       "1                                4                          1               2   \n",
       "2                                3                          4               4   \n",
       "3                                2                          3               1   \n",
       "4                                4                          1               3   \n",
       "..                             ...                        ...             ...   \n",
       "995                              3                          1               4   \n",
       "996                              3                          2               4   \n",
       "997                              2                          3               3   \n",
       "998                              4                          1               4   \n",
       "999                              1                          4               3   \n",
       "\n",
       "     Distance_From_Home  Number_of_Companies_Worked  Attrition  \n",
       "0                    20                           3         No  \n",
       "1                    25                           2         No  \n",
       "2                    45                           3         No  \n",
       "3                    35                           3         No  \n",
       "4                    44                           3         No  \n",
       "..                  ...                         ...        ...  \n",
       "995                  24                           4         No  \n",
       "996                  39                           3        Yes  \n",
       "997                  33                           2         No  \n",
       "998                  41                           4         No  \n",
       "999                  43                           2         No  \n",
       "\n",
       "[1000 rows x 26 columns]>"
      ]
     },
     "execution_count": 10,
     "metadata": {},
     "output_type": "execute_result"
    }
   ],
   "source": [
    "df.head"
   ]
  },
  {
   "cell_type": "code",
   "execution_count": 11,
   "metadata": {},
   "outputs": [
    {
     "data": {
      "text/plain": [
       "<bound method NDFrame.tail of       Employee_ID  Age  Gender Marital_Status Department   Job_Role  \\\n",
       "0               1   58  Female        Married         IT    Manager   \n",
       "1               2   48  Female        Married      Sales  Assistant   \n",
       "2               3   34    Male        Married  Marketing  Assistant   \n",
       "3               4   27  Female       Divorced  Marketing    Manager   \n",
       "4               5   40    Male       Divorced  Marketing  Executive   \n",
       "..            ...  ...     ...            ...        ...        ...   \n",
       "995           996   27  Female       Divorced         HR    Analyst   \n",
       "996           997   47    Male         Single         IT    Manager   \n",
       "997           998   50  Female       Divorced         IT  Executive   \n",
       "998           999   28  Female        Married         HR  Executive   \n",
       "999          1000   48  Female       Divorced         IT    Analyst   \n",
       "\n",
       "     Job_Level  Monthly_Income  Hourly_Rate  Years_at_Company  ...  Overtime  \\\n",
       "0            1           15488           28                15  ...        No   \n",
       "1            5           13079           28                 6  ...       Yes   \n",
       "2            1           13744           24                24  ...       Yes   \n",
       "3            1            6809           26                10  ...        No   \n",
       "4            1           10206           52                29  ...        No   \n",
       "..         ...             ...          ...               ...  ...       ...   \n",
       "995          2            4172           76                24  ...        No   \n",
       "996          4           11007           71                19  ...       Yes   \n",
       "997          1            4641           43                25  ...       Yes   \n",
       "998          4           19855           92                13  ...        No   \n",
       "999          2           11738           39                 1  ...       Yes   \n",
       "\n",
       "     Project_Count  Average_Hours_Worked_Per_Week  Absenteeism  \\\n",
       "0                6                             54           17   \n",
       "1                2                             45            1   \n",
       "2                6                             34            2   \n",
       "3                9                             48           18   \n",
       "4                3                             33            0   \n",
       "..             ...                            ...          ...   \n",
       "995              4                             46           10   \n",
       "996              7                             36           16   \n",
       "997              1                             46            9   \n",
       "998              4                             52           17   \n",
       "999              2                             59            5   \n",
       "\n",
       "     Work_Environment_Satisfaction  Relationship_with_Manager Job_Involvement  \\\n",
       "0                                4                          4               4   \n",
       "1                                4                          1               2   \n",
       "2                                3                          4               4   \n",
       "3                                2                          3               1   \n",
       "4                                4                          1               3   \n",
       "..                             ...                        ...             ...   \n",
       "995                              3                          1               4   \n",
       "996                              3                          2               4   \n",
       "997                              2                          3               3   \n",
       "998                              4                          1               4   \n",
       "999                              1                          4               3   \n",
       "\n",
       "     Distance_From_Home  Number_of_Companies_Worked  Attrition  \n",
       "0                    20                           3         No  \n",
       "1                    25                           2         No  \n",
       "2                    45                           3         No  \n",
       "3                    35                           3         No  \n",
       "4                    44                           3         No  \n",
       "..                  ...                         ...        ...  \n",
       "995                  24                           4         No  \n",
       "996                  39                           3        Yes  \n",
       "997                  33                           2         No  \n",
       "998                  41                           4         No  \n",
       "999                  43                           2         No  \n",
       "\n",
       "[1000 rows x 26 columns]>"
      ]
     },
     "execution_count": 11,
     "metadata": {},
     "output_type": "execute_result"
    }
   ],
   "source": [
    "df.tail"
   ]
  },
  {
   "cell_type": "markdown",
   "metadata": {},
   "source": [
    "## data cleaning"
   ]
  },
  {
   "cell_type": "markdown",
   "metadata": {},
   "source": [
    "# Missing values check "
   ]
  },
  {
   "cell_type": "code",
   "execution_count": 13,
   "metadata": {},
   "outputs": [
    {
     "data": {
      "text/plain": [
       " Employee_ID                     0\n",
       "Age                              0\n",
       "Gender                           0\n",
       "Marital_Status                   0\n",
       "Department                       0\n",
       "Job_Role                         0\n",
       "Job_Level                        0\n",
       "Monthly_Income                   0\n",
       "Hourly_Rate                      0\n",
       "Years_at_Company                 0\n",
       "Years_in_Current_Role            0\n",
       "Years_Since_Last_Promotion       0\n",
       "Work_Life_Balance                0\n",
       "Job_Satisfaction                 0\n",
       "Performance_Rating               0\n",
       "Training_Hours_Last_Year         0\n",
       "Overtime                         0\n",
       "Project_Count                    0\n",
       "Average_Hours_Worked_Per_Week    0\n",
       "Absenteeism                      0\n",
       "Work_Environment_Satisfaction    0\n",
       "Relationship_with_Manager        0\n",
       "Job_Involvement                  0\n",
       "Distance_From_Home               0\n",
       "Number_of_Companies_Worked       0\n",
       "Attrition                        0\n",
       "dtype: int64"
      ]
     },
     "execution_count": 13,
     "metadata": {},
     "output_type": "execute_result"
    }
   ],
   "source": [
    "df.isnull().sum()"
   ]
  },
  {
   "cell_type": "markdown",
   "metadata": {},
   "source": [
    "# Missing values fill"
   ]
  },
  {
   "cell_type": "code",
   "execution_count": null,
   "metadata": {},
   "outputs": [],
   "source": [
    "df[\"\"].mean()"
   ]
  },
  {
   "cell_type": "code",
   "execution_count": null,
   "metadata": {},
   "outputs": [],
   "source": []
  }
 ],
 "metadata": {
  "kernelspec": {
   "display_name": "Python 3",
   "language": "python",
   "name": "python3"
  },
  "language_info": {
   "codemirror_mode": {
    "name": "ipython",
    "version": 3
   },
   "file_extension": ".py",
   "mimetype": "text/x-python",
   "name": "python",
   "nbconvert_exporter": "python",
   "pygments_lexer": "ipython3",
   "version": "3.13.0"
  }
 },
 "nbformat": 4,
 "nbformat_minor": 2
}
